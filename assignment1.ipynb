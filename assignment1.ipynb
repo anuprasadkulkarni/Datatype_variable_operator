{
 "cells": [
  {
   "cell_type": "code",
   "execution_count": 1,
   "id": "a16de04a",
   "metadata": {},
   "outputs": [],
   "source": [
    "# datatypes\n",
    "#1.\tConstruct 2 lists containing all the available data types  \n",
    "#(integer, float, string, complex and Boolean) and do the following..\n",
    "\n",
    "list1=[12,12.4,'anu',45+4j,True]\n",
    "list2=[12,4.5,'radha',45+4j,False]"
   ]
  },
  {
   "cell_type": "code",
   "execution_count": 2,
   "id": "a1a4c5cc",
   "metadata": {},
   "outputs": [
    {
     "name": "stdout",
     "output_type": "stream",
     "text": [
      "[12, 12.4, 'anu', (45+4j), True, 12, 4.5, 'radha', (45+4j), False]\n"
     ]
    }
   ],
   "source": [
    "#\tCreate another list by concatenating above 2 lists\n",
    "list3=list1+list2\n",
    "print(list3)\n"
   ]
  },
  {
   "cell_type": "code",
   "execution_count": 3,
   "id": "89ddbfe1",
   "metadata": {},
   "outputs": [
    {
     "name": "stdout",
     "output_type": "stream",
     "text": [
      "The count of 12 is 2\n"
     ]
    }
   ],
   "source": [
    "# Find the frequency of each element in the concatenated list.\n",
    "\n",
    "#count  of 12\n",
    "count=list3.count(12)\n",
    "print(\"The count of 12 is\", count)\n"
   ]
  },
  {
   "cell_type": "code",
   "execution_count": 4,
   "id": "0bdf192c",
   "metadata": {},
   "outputs": [
    {
     "name": "stdout",
     "output_type": "stream",
     "text": [
      "The count of 12.4 is 1\n"
     ]
    }
   ],
   "source": [
    "#count of 12.4\n",
    "count=list3.count(12.4)\n",
    "print(\"The count of 12.4 is\", count)\n"
   ]
  },
  {
   "cell_type": "code",
   "execution_count": 5,
   "id": "7391e757",
   "metadata": {},
   "outputs": [
    {
     "name": "stdout",
     "output_type": "stream",
     "text": [
      "The count of anu is 1\n"
     ]
    }
   ],
   "source": [
    "#count of anu\n",
    "count=list3.count('anu')\n",
    "print(\"The count of anu is\",count)\n"
   ]
  },
  {
   "cell_type": "code",
   "execution_count": 6,
   "id": "5d2fe248",
   "metadata": {},
   "outputs": [
    {
     "name": "stdout",
     "output_type": "stream",
     "text": [
      "The count of 45+4j is 2\n"
     ]
    }
   ],
   "source": [
    "#count of 45+4J\n",
    "count=list3.count(45+4j)\n",
    "print(\"The count of 45+4j is\",count)\n"
   ]
  },
  {
   "cell_type": "code",
   "execution_count": 7,
   "id": "71f15e59",
   "metadata": {},
   "outputs": [
    {
     "name": "stdout",
     "output_type": "stream",
     "text": [
      "The count of true is 1\n"
     ]
    }
   ],
   "source": [
    "#count of true\n",
    "count = list3.count(True)\n",
    "print(\"The count of true is\",count)\n"
   ]
  },
  {
   "cell_type": "code",
   "execution_count": 8,
   "id": "76848f4e",
   "metadata": {},
   "outputs": [
    {
     "name": "stdout",
     "output_type": "stream",
     "text": [
      "The count of 4.5 is 1\n"
     ]
    }
   ],
   "source": [
    "#count of 4.5\n",
    "count=list3.count(4.5)\n",
    "print(\"The count of 4.5 is\", count)\n"
   ]
  },
  {
   "cell_type": "code",
   "execution_count": 9,
   "id": "e4d15eb9",
   "metadata": {},
   "outputs": [
    {
     "name": "stdout",
     "output_type": "stream",
     "text": [
      "The count of false is 1\n"
     ]
    }
   ],
   "source": [
    "#count of false\n",
    "count=list3.count(False)\n",
    "print(\"The count of false is\",count)\n"
   ]
  },
  {
   "cell_type": "code",
   "execution_count": 10,
   "id": "55d06a7d",
   "metadata": {},
   "outputs": [
    {
     "name": "stdout",
     "output_type": "stream",
     "text": [
      "[False, (45+4j), 'radha', 4.5, 12, True, (45+4j), 'anu', 12.4, 12]\n"
     ]
    }
   ],
   "source": [
    "#c.\tPrint the list in reverse order.\n",
    "\n",
    "list3.reverse()\n",
    "\n",
    "print(list3)"
   ]
  },
  {
   "cell_type": "code",
   "execution_count": 11,
   "id": "f9ee6a9a",
   "metadata": {},
   "outputs": [],
   "source": [
    "# 2.Create 2 Sets containing integers (numbers from 1 to 10 in one set and 5 to 15 in \n",
    "# other set)\n",
    "set1= {1,2,3,4,5,6,7,8,9,10}\n",
    "set2= {5,6,7,8,9,10,11,12,13,14,15}\n"
   ]
  },
  {
   "cell_type": "code",
   "execution_count": 12,
   "id": "ea4187f1",
   "metadata": {},
   "outputs": [
    {
     "name": "stdout",
     "output_type": "stream",
     "text": [
      "{5, 6, 7, 8, 9, 10}\n"
     ]
    }
   ],
   "source": [
    "# a.Find the common elements in above 2 Sets.\n",
    "set3= set1 & set2\n",
    "print(set3)"
   ]
  },
  {
   "cell_type": "code",
   "execution_count": 13,
   "id": "342b7659",
   "metadata": {},
   "outputs": [
    {
     "name": "stdout",
     "output_type": "stream",
     "text": [
      "{1, 2, 3, 4}\n"
     ]
    }
   ],
   "source": [
    "# b.Find the elements that are not common.\n",
    "\n",
    "set1= {1,2,3,4,5,6,7,8,9,10}\n",
    "set2= {5,6,7,8,9,10,11,12,13,14,15}\n",
    "set3=set1-set2\n",
    "print(set3)"
   ]
  },
  {
   "cell_type": "code",
   "execution_count": 14,
   "id": "1d90b426",
   "metadata": {},
   "outputs": [
    {
     "name": "stdout",
     "output_type": "stream",
     "text": [
      "{1, 2, 3, 4, 5, 6, 8, 9, 10}\n",
      "{5, 6, 8, 9, 10, 11, 12, 13, 14, 15}\n"
     ]
    }
   ],
   "source": [
    "# remove 7 from both the set\n",
    "\n",
    "set1.remove(7)\n",
    "print(set1)\n",
    "set2.remove(7)\n",
    "print(set2)"
   ]
  },
  {
   "cell_type": "code",
   "execution_count": 15,
   "id": "b2591763",
   "metadata": {},
   "outputs": [],
   "source": [
    "#3.\tCreate a data dictionary of 5 states having state name as key and number of covid-19\n",
    "# cases as values.\n",
    "corona_cases={'Karnataka':50000, 'Maharashtra':70000, 'Gujrat':65000, 'Andhrpradesh':75000, 'Goa':35000}"
   ]
  },
  {
   "cell_type": "code",
   "execution_count": 16,
   "id": "c8cd2546",
   "metadata": {},
   "outputs": [
    {
     "data": {
      "text/plain": [
       "dict_keys(['Karnataka', 'Maharashtra', 'Gujrat', 'Andhrpradesh', 'Goa'])"
      ]
     },
     "execution_count": 16,
     "metadata": {},
     "output_type": "execute_result"
    }
   ],
   "source": [
    "#a.\tPrint only state names from the dictionary.\n",
    "corona_cases.keys()"
   ]
  },
  {
   "cell_type": "code",
   "execution_count": 17,
   "id": "103749f9",
   "metadata": {},
   "outputs": [
    {
     "name": "stdout",
     "output_type": "stream",
     "text": [
      "{'Karnataka': 50000, 'Maharashtra': 70000, 'Gujrat': 65000, 'Andhrpradesh': 75000, 'Goa': 35000, 'China': '250000'}\n"
     ]
    }
   ],
   "source": [
    "#b.\tUpdate another country and its covid-19 cases in the dictionary.\n",
    "corona_cases['China']='250000'\n",
    "print(corona_cases)"
   ]
  },
  {
   "cell_type": "code",
   "execution_count": 19,
   "id": "6b94867d",
   "metadata": {},
   "outputs": [
    {
     "name": "stdout",
     "output_type": "stream",
     "text": [
      "22\n",
      "399\n",
      "It is valid relation\n"
     ]
    }
   ],
   "source": [
    "# operators\n",
    "\n",
    "#Please implement by using Python\n",
    "# 1.\tA. Write an equation which relates   399, 543 and 12345 \n",
    "x=12345\n",
    "y=543\n",
    "z=399\n",
    "#compute the quotient and remainder\n",
    "q=x//y\n",
    "print(q)\n",
    "r=x%y\n",
    "print(r)\n",
    "#check if the quotient and remainder value match\n",
    "result=22*y+z\n",
    "if x==result:\n",
    "    print(\"It is valid relation\")\n",
    "else:\n",
    "    print(\"no relation\")"
   ]
  },
  {
   "cell_type": "code",
   "execution_count": 20,
   "id": "6cebb62e",
   "metadata": {},
   "outputs": [
    {
     "name": "stdout",
     "output_type": "stream",
     "text": [
      "1\n",
      "-2\n"
     ]
    }
   ],
   "source": [
    "#B.  “When I divide 5 with 3, I get 1. But when I divide -5 with 3, I get -2”—How would you justify it?\n",
    "\n",
    "#When we divide two integer in python using /operator the result is floating number.\n",
    "#If we use //(floor division operator)it divides number and round the result down to nearest integer.\n",
    "a=5\n",
    "b=3\n",
    "c=-5\n",
    "\n",
    "#by using division\n",
    " \n",
    "print(a//b)\n",
    "print(c//b)\n",
    "\n"
   ]
  },
  {
   "cell_type": "code",
   "execution_count": 21,
   "id": "18f20413",
   "metadata": {},
   "outputs": [
    {
     "name": "stdout",
     "output_type": "stream",
     "text": [
      "1.6666666666666667\n",
      "50\n"
     ]
    }
   ],
   "source": [
    "# 2.a=5,b=3,c=10.\n",
    "\n",
    "a=5\n",
    "b=3\n",
    "c=10\n",
    "\n",
    "#. What will be the output of the following:\n",
    "# A. a/=b\n",
    "\n",
    "a/=b\n",
    "print(a)\n",
    "  \n",
    "#B  c*=5\n",
    "\n",
    "c*=5\n",
    "print(c)  \n"
   ]
  },
  {
   "cell_type": "code",
   "execution_count": 22,
   "id": "1f172048",
   "metadata": {},
   "outputs": [
    {
     "name": "stdout",
     "output_type": "stream",
     "text": [
      "s is in word\n"
     ]
    }
   ],
   "source": [
    "# 3. A. How to check the presence of an alphabet ‘S’ in the word “Data Science” .\n",
    "\n",
    "word=\"Data science\"\n",
    "if \"s\" in word:\n",
    "    print(\"s is in word\")\n",
    "else:\n",
    "    print(\"s is not in word\")"
   ]
  },
  {
   "cell_type": "code",
   "execution_count": 23,
   "id": "a6055a66",
   "metadata": {},
   "outputs": [
    {
     "name": "stdout",
     "output_type": "stream",
     "text": [
      "64\n"
     ]
    }
   ],
   "source": [
    "#B. How can you obtain 64 by using numbers 4 and 3 .\n",
    "\n",
    "print(4**3)"
   ]
  },
  {
   "cell_type": "code",
   "execution_count": 24,
   "id": "87327a22",
   "metadata": {},
   "outputs": [
    {
     "name": "stdout",
     "output_type": "stream",
     "text": [
      "5\n"
     ]
    }
   ],
   "source": [
    "#Variables\n",
    "#Please implement by using Python\n",
    "\n",
    "#1.\tWhat will be the output of the following (can/cannot):\n",
    "#a.\tAge1=5\n",
    "\n",
    "#can happen\n",
    "Age1=5\n",
    "print(Age1)"
   ]
  },
  {
   "cell_type": "code",
   "execution_count": 25,
   "id": "219a1489",
   "metadata": {},
   "outputs": [
    {
     "ename": "SyntaxError",
     "evalue": "invalid decimal literal (1910917133.py, line 4)",
     "output_type": "error",
     "traceback": [
      "\u001b[1;36m  Cell \u001b[1;32mIn[25], line 4\u001b[1;36m\u001b[0m\n\u001b[1;33m    5age=55\u001b[0m\n\u001b[1;37m    ^\u001b[0m\n\u001b[1;31mSyntaxError\u001b[0m\u001b[1;31m:\u001b[0m invalid decimal literal\n"
     ]
    }
   ],
   "source": [
    "#b.5age=55\n",
    "\n",
    "#cannot happen\n",
    "5age=55\n",
    "print(5age)"
   ]
  },
  {
   "cell_type": "code",
   "execution_count": 26,
   "id": "321e1992",
   "metadata": {},
   "outputs": [
    {
     "name": "stdout",
     "output_type": "stream",
     "text": [
      "100\n"
     ]
    }
   ],
   "source": [
    "#2.\tWhat will be the output of following (can/cannot):\n",
    "#a.\tAge_1=100\n",
    "\n",
    "#can happen\n",
    "Age_1=100\n",
    "print(Age_1)"
   ]
  },
  {
   "cell_type": "code",
   "execution_count": 27,
   "id": "6b40e957",
   "metadata": {},
   "outputs": [
    {
     "ename": "SyntaxError",
     "evalue": "cannot assign to expression here. Maybe you meant '==' instead of '='? (3500672275.py, line 4)",
     "output_type": "error",
     "traceback": [
      "\u001b[1;36m  Cell \u001b[1;32mIn[27], line 4\u001b[1;36m\u001b[0m\n\u001b[1;33m    age@1=100\u001b[0m\n\u001b[1;37m    ^\u001b[0m\n\u001b[1;31mSyntaxError\u001b[0m\u001b[1;31m:\u001b[0m cannot assign to expression here. Maybe you meant '==' instead of '='?\n"
     ]
    }
   ],
   "source": [
    "#b.age@1=100\n",
    "\n",
    "#cannot happen\n",
    "age@1=100\n",
    "print(age@1)"
   ]
  },
  {
   "cell_type": "code",
   "execution_count": 28,
   "id": "bdb46ab9",
   "metadata": {},
   "outputs": [
    {
     "ename": "NameError",
     "evalue": "name 'my_var' is not defined",
     "output_type": "error",
     "traceback": [
      "\u001b[1;31m---------------------------------------------------------------------------\u001b[0m",
      "\u001b[1;31mNameError\u001b[0m                                 Traceback (most recent call last)",
      "Cell \u001b[1;32mIn[28], line 6\u001b[0m\n\u001b[0;32m      4\u001b[0m my_var\u001b[38;5;241m=\u001b[39m\u001b[38;5;241m7\u001b[39m\n\u001b[0;32m      5\u001b[0m \u001b[38;5;28;01mdel\u001b[39;00m(my_var)\n\u001b[1;32m----> 6\u001b[0m \u001b[38;5;28mprint\u001b[39m(my_var)\n",
      "\u001b[1;31mNameError\u001b[0m: name 'my_var' is not defined"
     ]
    }
   ],
   "source": [
    "#3.\tHow can you delete variables in Python ?\n",
    "#you can delete variables in python by using del statement.\n",
    "\n",
    "my_var=7\n",
    "del(my_var)\n",
    "print(my_var)"
   ]
  },
  {
   "cell_type": "code",
   "execution_count": null,
   "id": "c64cde99",
   "metadata": {},
   "outputs": [],
   "source": []
  }
 ],
 "metadata": {
  "kernelspec": {
   "display_name": "Python 3 (ipykernel)",
   "language": "python",
   "name": "python3"
  },
  "language_info": {
   "codemirror_mode": {
    "name": "ipython",
    "version": 3
   },
   "file_extension": ".py",
   "mimetype": "text/x-python",
   "name": "python",
   "nbconvert_exporter": "python",
   "pygments_lexer": "ipython3",
   "version": "3.11.4"
  }
 },
 "nbformat": 4,
 "nbformat_minor": 5
}
